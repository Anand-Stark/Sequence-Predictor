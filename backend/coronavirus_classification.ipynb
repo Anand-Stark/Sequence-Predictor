{
 "cells": [
  {
   "cell_type": "code",
   "execution_count": 1,
   "metadata": {},
   "outputs": [],
   "source": [
    "import os\n",
    "import cv2\n",
    "import numpy as np\n",
    "import pandas as pd\n",
    "from sklearn.model_selection import train_test_split\n",
    "import random\n",
    "from sklearn.preprocessing import LabelEncoder\n",
    "from collections import Counter\n",
    "\n",
    "from keras import layers, models, optimizers\n",
    "from keras.layers import Conv2D, MaxPooling2D, Flatten, Dense, Dropout\n",
    "from sklearn.model_selection import train_test_split"
   ]
  },
  {
   "cell_type": "code",
   "execution_count": 2,
   "metadata": {},
   "outputs": [],
   "source": [
    "folder_path = \"./images_coronavirus_6class\"\n",
    "\n",
    "X = []\n",
    "y = []\n",
    "\n",
    "image_filenames = os.listdir(folder_path)\n",
    "\n",
    "for filename in image_filenames:\n",
    "    image_class = filename.split('_')[-1]\n",
    "    image = cv2.imread(os.path.join(folder_path, filename))\n",
    "    image = cv2.resize(image, (32, 32))\n",
    "    X.append(image)\n",
    "    y.append(int(image_class.split('.')[0]))\n",
    "\n",
    "X = np.array(X)\n",
    "y = np.array(y)"
   ]
  },
  {
   "cell_type": "code",
   "execution_count": 3,
   "metadata": {},
   "outputs": [
    {
     "name": "stdout",
     "output_type": "stream",
     "text": [
      "(955, 32, 32, 3) (955,)\n",
      "(array([0, 1, 2, 3, 4, 5]), array([186, 100, 200,  69, 200, 200], dtype=int64))\n"
     ]
    }
   ],
   "source": [
    "print(X.shape, y.shape)\n",
    "print(np.unique(y, return_counts=True))"
   ]
  },
  {
   "cell_type": "code",
   "execution_count": 4,
   "metadata": {},
   "outputs": [],
   "source": [
    "permutation_index = np.random.permutation(len(X))\n",
    "\n",
    "X = X[permutation_index]\n",
    "y = y[permutation_index]"
   ]
  },
  {
   "cell_type": "code",
   "execution_count": 5,
   "metadata": {},
   "outputs": [],
   "source": [
    "X_train, X_test, y_train, y_test = train_test_split(X, y, test_size=0.15, random_state=42)"
   ]
  },
  {
   "cell_type": "code",
   "execution_count": 6,
   "metadata": {},
   "outputs": [],
   "source": [
    "def create_cnn_model():\n",
    "    model = models.Sequential()\n",
    "    \n",
    "    model.add(layers.InputLayer(input_shape=(32, 32, 3)))\n",
    "    model.add(layers.Rescaling(1./255))  \n",
    "    \n",
    "    # Convolutional layers\n",
    "    model.add(Conv2D(16, (5, 5), activation='relu', padding='same', strides=2))\n",
    "    model.add(Conv2D(32, (3, 3), activation='relu', padding='same', strides=2))\n",
    "    model.add(Conv2D(32, (3, 3), activation='relu', padding='same', strides=2))\n",
    "    \n",
    "    model.add(Dropout(0.2))\n",
    "    \n",
    "    model.add(MaxPooling2D(pool_size=(2, 2)))\n",
    "    model.add(Dropout(0.4))\n",
    "    model.add(MaxPooling2D(pool_size=(2, 2)))\n",
    "    \n",
    "    model.add(Flatten())\n",
    "    \n",
    "    model.add(Dense(64, activation='relu'))\n",
    "    \n",
    "    model.add(Dense(6, activation='softmax'))  \n",
    "    \n",
    "    return model"
   ]
  },
  {
   "cell_type": "code",
   "execution_count": 7,
   "metadata": {},
   "outputs": [
    {
     "name": "stdout",
     "output_type": "stream",
     "text": [
      "Model: \"sequential\"\n",
      "_________________________________________________________________\n",
      " Layer (type)                Output Shape              Param #   \n",
      "=================================================================\n",
      " rescaling (Rescaling)       (None, 32, 32, 3)         0         \n",
      "                                                                 \n",
      " conv2d (Conv2D)             (None, 16, 16, 16)        1216      \n",
      "                                                                 \n",
      " conv2d_1 (Conv2D)           (None, 8, 8, 32)          4640      \n",
      "                                                                 \n",
      " conv2d_2 (Conv2D)           (None, 4, 4, 32)          9248      \n",
      "                                                                 \n",
      " dropout (Dropout)           (None, 4, 4, 32)          0         \n",
      "                                                                 \n",
      " max_pooling2d (MaxPooling2D  (None, 2, 2, 32)         0         \n",
      " )                                                               \n",
      "                                                                 \n",
      " dropout_1 (Dropout)         (None, 2, 2, 32)          0         \n",
      "                                                                 \n",
      " max_pooling2d_1 (MaxPooling  (None, 1, 1, 32)         0         \n",
      " 2D)                                                             \n",
      "                                                                 \n",
      " flatten (Flatten)           (None, 32)                0         \n",
      "                                                                 \n",
      " dense (Dense)               (None, 64)                2112      \n",
      "                                                                 \n",
      " dense_1 (Dense)             (None, 6)                 390       \n",
      "                                                                 \n",
      "=================================================================\n",
      "Total params: 17,606\n",
      "Trainable params: 17,606\n",
      "Non-trainable params: 0\n",
      "_________________________________________________________________\n"
     ]
    }
   ],
   "source": [
    "model = create_cnn_model()\n",
    "model.summary()"
   ]
  },
  {
   "cell_type": "code",
   "execution_count": 8,
   "metadata": {},
   "outputs": [],
   "source": [
    "model.compile(optimizer='adam',\n",
    "              loss='sparse_categorical_crossentropy',\n",
    "              metrics=['accuracy'])"
   ]
  },
  {
   "cell_type": "code",
   "execution_count": 9,
   "metadata": {},
   "outputs": [
    {
     "name": "stdout",
     "output_type": "stream",
     "text": [
      "Epoch 1/20\n",
      "26/26 [==============================] - 2s 34ms/step - loss: 1.6588 - accuracy: 0.2602 - val_loss: 1.5837 - val_accuracy: 0.5139\n",
      "Epoch 2/20\n",
      "26/26 [==============================] - 0s 16ms/step - loss: 1.2406 - accuracy: 0.4587 - val_loss: 1.1214 - val_accuracy: 0.5764\n",
      "Epoch 3/20\n",
      "26/26 [==============================] - 0s 16ms/step - loss: 1.0292 - accuracy: 0.5438 - val_loss: 1.0127 - val_accuracy: 0.7778\n",
      "Epoch 4/20\n",
      "26/26 [==============================] - 0s 14ms/step - loss: 0.8720 - accuracy: 0.6732 - val_loss: 0.8490 - val_accuracy: 0.8472\n",
      "Epoch 5/20\n",
      "26/26 [==============================] - 0s 17ms/step - loss: 0.7686 - accuracy: 0.7176 - val_loss: 0.7302 - val_accuracy: 0.8958\n",
      "Epoch 6/20\n",
      "26/26 [==============================] - 0s 13ms/step - loss: 0.6715 - accuracy: 0.7448 - val_loss: 0.6629 - val_accuracy: 0.8750\n",
      "Epoch 7/20\n",
      "26/26 [==============================] - 0s 14ms/step - loss: 0.5753 - accuracy: 0.7744 - val_loss: 0.6002 - val_accuracy: 0.7639\n",
      "Epoch 8/20\n",
      "26/26 [==============================] - 0s 15ms/step - loss: 0.4870 - accuracy: 0.8200 - val_loss: 0.4546 - val_accuracy: 0.9028\n",
      "Epoch 9/20\n",
      "26/26 [==============================] - 0s 14ms/step - loss: 0.4208 - accuracy: 0.8335 - val_loss: 0.3907 - val_accuracy: 0.9028\n",
      "Epoch 10/20\n",
      "26/26 [==============================] - 0s 14ms/step - loss: 0.3840 - accuracy: 0.8372 - val_loss: 0.3848 - val_accuracy: 0.9028\n",
      "Epoch 11/20\n",
      "26/26 [==============================] - 0s 14ms/step - loss: 0.3631 - accuracy: 0.8446 - val_loss: 0.3529 - val_accuracy: 0.9444\n",
      "Epoch 12/20\n",
      "26/26 [==============================] - 0s 14ms/step - loss: 0.3299 - accuracy: 0.8644 - val_loss: 0.3110 - val_accuracy: 0.9097\n",
      "Epoch 13/20\n",
      "26/26 [==============================] - 0s 15ms/step - loss: 0.2939 - accuracy: 0.8718 - val_loss: 0.2822 - val_accuracy: 0.9028\n",
      "Epoch 14/20\n",
      "26/26 [==============================] - 0s 14ms/step - loss: 0.3240 - accuracy: 0.8409 - val_loss: 0.3052 - val_accuracy: 0.9028\n",
      "Epoch 15/20\n",
      "26/26 [==============================] - 0s 18ms/step - loss: 0.2766 - accuracy: 0.8705 - val_loss: 0.2762 - val_accuracy: 0.9097\n",
      "Epoch 16/20\n",
      "26/26 [==============================] - 0s 14ms/step - loss: 0.2698 - accuracy: 0.8693 - val_loss: 0.2711 - val_accuracy: 0.9583\n",
      "Epoch 17/20\n",
      "26/26 [==============================] - 0s 14ms/step - loss: 0.2810 - accuracy: 0.8644 - val_loss: 0.2777 - val_accuracy: 0.9514\n",
      "Epoch 18/20\n",
      "26/26 [==============================] - 0s 16ms/step - loss: 0.2705 - accuracy: 0.8767 - val_loss: 0.2627 - val_accuracy: 0.9097\n",
      "Epoch 19/20\n",
      "26/26 [==============================] - 0s 15ms/step - loss: 0.2361 - accuracy: 0.8927 - val_loss: 0.2161 - val_accuracy: 0.9097\n",
      "Epoch 20/20\n",
      "26/26 [==============================] - 0s 14ms/step - loss: 0.2459 - accuracy: 0.8903 - val_loss: 0.2223 - val_accuracy: 0.9097\n"
     ]
    }
   ],
   "source": [
    "history = model.fit(\n",
    "    X_train,\n",
    "    y_train,\n",
    "    epochs=20,\n",
    "    validation_data=(\n",
    "        X_test,\n",
    "        y_test\n",
    "    )\n",
    ")"
   ]
  },
  {
   "cell_type": "code",
   "execution_count": 10,
   "metadata": {},
   "outputs": [
    {
     "name": "stdout",
     "output_type": "stream",
     "text": [
      "5/5 [==============================] - 0s 6ms/step - loss: 0.2223 - accuracy: 0.9097\n",
      "test accuracy is 0.9097222089767456\n"
     ]
    }
   ],
   "source": [
    "scores = model.evaluate(X_test, y_test, verbose=1)\n",
    "print(f'test accuracy is {scores[1]}')"
   ]
  },
  {
   "cell_type": "code",
   "execution_count": 13,
   "metadata": {},
   "outputs": [
    {
     "name": "stderr",
     "output_type": "stream",
     "text": [
      "A subdirectory or file -p already exists.\n",
      "Error occurred while processing: -p.\n"
     ]
    }
   ],
   "source": [
    "!mkdir -p saved_model_coronavirus_classification\n",
    "model.save('./saved_model_coronavirus_classification/coronavirus_6_class_classification.keras')"
   ]
  },
  {
   "cell_type": "code",
   "execution_count": null,
   "metadata": {},
   "outputs": [],
   "source": []
  }
 ],
 "metadata": {
  "kernelspec": {
   "display_name": "Python 3",
   "language": "python",
   "name": "python3"
  },
  "language_info": {
   "codemirror_mode": {
    "name": "ipython",
    "version": 3
   },
   "file_extension": ".py",
   "mimetype": "text/x-python",
   "name": "python",
   "nbconvert_exporter": "python",
   "pygments_lexer": "ipython3",
   "version": "3.10.8"
  }
 },
 "nbformat": 4,
 "nbformat_minor": 2
}
