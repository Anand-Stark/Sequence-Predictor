{
 "cells": [
  {
   "cell_type": "code",
   "execution_count": 20,
   "metadata": {},
   "outputs": [],
   "source": [
    "import os\n",
    "import cv2\n",
    "import numpy as np\n",
    "import pandas as pd\n",
    "from sklearn.model_selection import train_test_split\n",
    "import random\n",
    "from sklearn.preprocessing import LabelEncoder\n",
    "from collections import Counter\n",
    "\n",
    "from keras import layers, models, optimizers\n",
    "from keras.layers import Conv2D, MaxPooling2D, Flatten, Dense, Dropout\n",
    "from sklearn.model_selection import train_test_split"
   ]
  },
  {
   "cell_type": "code",
   "execution_count": 2,
   "metadata": {},
   "outputs": [
    {
     "data": {
      "text/html": [
       "<div>\n",
       "<style scoped>\n",
       "    .dataframe tbody tr th:only-of-type {\n",
       "        vertical-align: middle;\n",
       "    }\n",
       "\n",
       "    .dataframe tbody tr th {\n",
       "        vertical-align: top;\n",
       "    }\n",
       "\n",
       "    .dataframe thead th {\n",
       "        text-align: right;\n",
       "    }\n",
       "</style>\n",
       "<table border=\"1\" class=\"dataframe\">\n",
       "  <thead>\n",
       "    <tr style=\"text-align: right;\">\n",
       "      <th></th>\n",
       "      <th>LocusName</th>\n",
       "      <th>SourceOrganism</th>\n",
       "      <th>Source</th>\n",
       "      <th>LocusSequenceLength</th>\n",
       "      <th>Sequence</th>\n",
       "    </tr>\n",
       "  </thead>\n",
       "  <tbody>\n",
       "    <tr>\n",
       "      <th>0</th>\n",
       "      <td>NC_018874</td>\n",
       "      <td>Duplodnaviria</td>\n",
       "      <td>Abalone herpesvirus Victoria/AUS/2009</td>\n",
       "      <td>211518</td>\n",
       "      <td>actcgtatgaactttgactggtttttggggcgcgagagtttggttt...</td>\n",
       "    </tr>\n",
       "    <tr>\n",
       "      <th>1</th>\n",
       "      <td>NC_011646</td>\n",
       "      <td>Duplodnaviria</td>\n",
       "      <td>Abalone shriveling syndrome-associated virus</td>\n",
       "      <td>34952</td>\n",
       "      <td>ctatttaactaatttagtattgtttgttgttttcggttgagtcaat...</td>\n",
       "    </tr>\n",
       "    <tr>\n",
       "      <th>2</th>\n",
       "      <td>NC_001341</td>\n",
       "      <td>Duplodnaviria</td>\n",
       "      <td>Acholeplasma virus MV-L51</td>\n",
       "      <td>4491</td>\n",
       "      <td>ggccttaaagcttttagagaactctttttgcagtaaaaagcacaag...</td>\n",
       "    </tr>\n",
       "    <tr>\n",
       "      <th>3</th>\n",
       "      <td>NC_028834</td>\n",
       "      <td>Duplodnaviria</td>\n",
       "      <td>Achromobacter phage 83-24</td>\n",
       "      <td>48216</td>\n",
       "      <td>gcacttcatgcagcatgaacatggacaatgtcccaaactgggactt...</td>\n",
       "    </tr>\n",
       "    <tr>\n",
       "      <th>4</th>\n",
       "      <td>NC_023556</td>\n",
       "      <td>Duplodnaviria</td>\n",
       "      <td>Achromobacter phage JWAlpha</td>\n",
       "      <td>72329</td>\n",
       "      <td>acacacccccccggtgtcttgctcctgtgcacctctacccaccccc...</td>\n",
       "    </tr>\n",
       "  </tbody>\n",
       "</table>\n",
       "</div>"
      ],
      "text/plain": [
       "   LocusName SourceOrganism                                        Source   \n",
       "0  NC_018874  Duplodnaviria         Abalone herpesvirus Victoria/AUS/2009  \\\n",
       "1  NC_011646  Duplodnaviria  Abalone shriveling syndrome-associated virus   \n",
       "2  NC_001341  Duplodnaviria                     Acholeplasma virus MV-L51   \n",
       "3  NC_028834  Duplodnaviria                     Achromobacter phage 83-24   \n",
       "4  NC_023556  Duplodnaviria                   Achromobacter phage JWAlpha   \n",
       "\n",
       "   LocusSequenceLength                                           Sequence  \n",
       "0               211518  actcgtatgaactttgactggtttttggggcgcgagagtttggttt...  \n",
       "1                34952  ctatttaactaatttagtattgtttgttgttttcggttgagtcaat...  \n",
       "2                 4491  ggccttaaagcttttagagaactctttttgcagtaaaaagcacaag...  \n",
       "3                48216  gcacttcatgcagcatgaacatggacaatgtcccaaactgggactt...  \n",
       "4                72329  acacacccccccggtgtcttgctcctgtgcacctctacccaccccc...  "
      ]
     },
     "execution_count": 2,
     "metadata": {},
     "output_type": "execute_result"
    }
   ],
   "source": [
    "df = pd.read_excel(\"./RawData.xlsx\")\n",
    "df.head()"
   ]
  },
  {
   "cell_type": "code",
   "execution_count": 5,
   "metadata": {},
   "outputs": [
    {
     "data": {
      "text/plain": [
       "11540"
      ]
     },
     "execution_count": 5,
     "metadata": {},
     "output_type": "execute_result"
    }
   ],
   "source": [
    "len(df)"
   ]
  },
  {
   "cell_type": "code",
   "execution_count": 3,
   "metadata": {},
   "outputs": [
    {
     "data": {
      "text/plain": [
       "SourceOrganism\n",
       "Riboviria        5069\n",
       "Duplodnaviria    3643\n",
       "Monodnaviria     1084\n",
       "Varidnaviria      988\n",
       "unclassified      756\n",
       "Name: count, dtype: int64"
      ]
     },
     "execution_count": 3,
     "metadata": {},
     "output_type": "execute_result"
    }
   ],
   "source": [
    "df['SourceOrganism'].value_counts()"
   ]
  },
  {
   "cell_type": "code",
   "execution_count": 7,
   "metadata": {},
   "outputs": [
    {
     "name": "stdout",
     "output_type": "stream",
     "text": [
      "   LocusName SourceOrganism                                        Source   \n",
      "0  NC_018874  Duplodnaviria         Abalone herpesvirus Victoria/AUS/2009  \\\n",
      "1  NC_011646  Duplodnaviria  Abalone shriveling syndrome-associated virus   \n",
      "2  NC_001341  Duplodnaviria                     Acholeplasma virus MV-L51   \n",
      "3  NC_028834  Duplodnaviria                     Achromobacter phage 83-24   \n",
      "4  NC_023556  Duplodnaviria                   Achromobacter phage JWAlpha   \n",
      "\n",
      "   LocusSequenceLength                                           Sequence  \n",
      "0               211518  actcgtatgaactttgactggtttttggggcgcgagagtttggttt...  \n",
      "1                34952  ctatttaactaatttagtattgtttgttgttttcggttgagtcaat...  \n",
      "2                 4491  ggccttaaagcttttagagaactctttttgcagtaaaaagcacaag...  \n",
      "3                48216  gcacttcatgcagcatgaacatggacaatgtcccaaactgggactt...  \n",
      "4                72329  acacacccccccggtgtcttgctcctgtgcacctctacccaccccc...  \n",
      "SourceOrganism\n",
      "Riboviria        5069\n",
      "Duplodnaviria    3643\n",
      "Monodnaviria     1084\n",
      "Varidnaviria      988\n",
      "Name: count, dtype: int64\n",
      "10784\n"
     ]
    }
   ],
   "source": [
    "df_without_unclassified = df[df['SourceOrganism'] != 'unclassified']\n",
    "print(df_without_unclassified.head())\n",
    "print(df_without_unclassified['SourceOrganism'].value_counts())\n",
    "print(len(df_without_unclassified))\n",
    "\n",
    "df = df_without_unclassified"
   ]
  },
  {
   "cell_type": "code",
   "execution_count": 13,
   "metadata": {},
   "outputs": [],
   "source": [
    "classes = np.array(list(df['SourceOrganism']))\n",
    "folder_path = \"./images\"\n",
    "\n",
    "X = []\n",
    "y_temp = []\n",
    "\n",
    "image_filenames = os.listdir(folder_path)\n",
    "\n",
    "counter = Counter()\n",
    "\n",
    "mapping = {\n",
    "    'Riboviria': 0,\n",
    "    'Duplodnaviria': 1,\n",
    "    'Monodnaviria': 2,\n",
    "    'Varidnaviria': 3\n",
    "}\n",
    "\n",
    "for filename in image_filenames:\n",
    "    image_class = filename.split('_')[-1]\n",
    "    \n",
    "    if counter[image_class] < 988:\n",
    "        image = cv2.imread(os.path.join(folder_path, filename))\n",
    "        image = cv2.resize(image, (64, 64))\n",
    "        X.append(image)\n",
    "        y_temp.append(mapping[image_class.split('.')[0]])\n",
    "        \n",
    "        counter[image_class] += 1\n",
    "\n",
    "X = np.array(X)\n",
    "y = np.array(y_temp)"
   ]
  },
  {
   "cell_type": "code",
   "execution_count": 24,
   "metadata": {},
   "outputs": [],
   "source": [
    "permutation_index = np.random.permutation(len(X))\n",
    "\n",
    "X = X[permutation_index]\n",
    "y = y[permutation_index]"
   ]
  },
  {
   "cell_type": "code",
   "execution_count": 25,
   "metadata": {},
   "outputs": [],
   "source": [
    "X_train, X_test, y_train, y_test = train_test_split(X, y, test_size=0.2, random_state=42)"
   ]
  },
  {
   "cell_type": "code",
   "execution_count": 26,
   "metadata": {},
   "outputs": [],
   "source": [
    "def create_cnn_model():\n",
    "    model = models.Sequential()\n",
    "    \n",
    "    model.add(layers.InputLayer(input_shape=(64, 64, 3)))\n",
    "    model.add(layers.Rescaling(1./255))  \n",
    "    \n",
    "    # Convolutional layers\n",
    "    model.add(Conv2D(32, (7, 7), activation='relu', padding='same', strides=2))\n",
    "    model.add(Conv2D(64, (5, 5), activation='relu', padding='same', strides=2))\n",
    "    model.add(Conv2D(64, (3, 3), activation='relu', padding='same', strides=2))\n",
    "    \n",
    "    model.add(Dropout(0.2))\n",
    "    \n",
    "    model.add(MaxPooling2D(pool_size=(2, 2)))\n",
    "    model.add(Dropout(0.4))\n",
    "    model.add(MaxPooling2D(pool_size=(2, 2)))\n",
    "    \n",
    "    model.add(Flatten())\n",
    "    \n",
    "    model.add(Dense(128, activation='relu'))\n",
    "    \n",
    "    model.add(Dense(4, activation='softmax'))  \n",
    "    \n",
    "    return model"
   ]
  },
  {
   "cell_type": "code",
   "execution_count": 27,
   "metadata": {},
   "outputs": [
    {
     "name": "stdout",
     "output_type": "stream",
     "text": [
      "Model: \"sequential_1\"\n",
      "_________________________________________________________________\n",
      " Layer (type)                Output Shape              Param #   \n",
      "=================================================================\n",
      " rescaling_1 (Rescaling)     (None, 64, 64, 3)         0         \n",
      "                                                                 \n",
      " conv2d_3 (Conv2D)           (None, 32, 32, 32)        4736      \n",
      "                                                                 \n",
      " conv2d_4 (Conv2D)           (None, 16, 16, 64)        51264     \n",
      "                                                                 \n",
      " conv2d_5 (Conv2D)           (None, 8, 8, 64)          36928     \n",
      "                                                                 \n",
      " dropout_2 (Dropout)         (None, 8, 8, 64)          0         \n",
      "                                                                 \n",
      " max_pooling2d_2 (MaxPooling  (None, 4, 4, 64)         0         \n",
      " 2D)                                                             \n",
      "                                                                 \n",
      " dropout_3 (Dropout)         (None, 4, 4, 64)          0         \n",
      "                                                                 \n",
      " max_pooling2d_3 (MaxPooling  (None, 2, 2, 64)         0         \n",
      " 2D)                                                             \n",
      "                                                                 \n",
      " flatten_1 (Flatten)         (None, 256)               0         \n",
      "                                                                 \n",
      " dense_2 (Dense)             (None, 128)               32896     \n",
      "                                                                 \n",
      " dense_3 (Dense)             (None, 4)                 516       \n",
      "                                                                 \n",
      "=================================================================\n",
      "Total params: 126,340\n",
      "Trainable params: 126,340\n",
      "Non-trainable params: 0\n",
      "_________________________________________________________________\n"
     ]
    }
   ],
   "source": [
    "model = create_cnn_model()\n",
    "model.summary()"
   ]
  },
  {
   "cell_type": "code",
   "execution_count": 28,
   "metadata": {},
   "outputs": [],
   "source": [
    "model.compile(optimizer='adam',\n",
    "              loss='sparse_categorical_crossentropy',\n",
    "              metrics=['accuracy'])"
   ]
  },
  {
   "cell_type": "code",
   "execution_count": 29,
   "metadata": {},
   "outputs": [
    {
     "name": "stdout",
     "output_type": "stream",
     "text": [
      "Epoch 1/50\n",
      "99/99 [==============================] - 9s 78ms/step - loss: 1.2197 - accuracy: 0.4154 - val_loss: 1.1541 - val_accuracy: 0.4943\n",
      "Epoch 2/50\n",
      "99/99 [==============================] - 7s 70ms/step - loss: 0.8801 - accuracy: 0.6305 - val_loss: 0.7604 - val_accuracy: 0.7244\n",
      "Epoch 3/50\n",
      "99/99 [==============================] - 7s 72ms/step - loss: 0.6222 - accuracy: 0.7561 - val_loss: 0.5813 - val_accuracy: 0.7977\n",
      "Epoch 4/50\n",
      "99/99 [==============================] - 7s 71ms/step - loss: 0.4969 - accuracy: 0.8089 - val_loss: 0.5572 - val_accuracy: 0.8040\n",
      "Epoch 5/50\n",
      "99/99 [==============================] - 7s 69ms/step - loss: 0.4143 - accuracy: 0.8466 - val_loss: 0.4509 - val_accuracy: 0.8432\n",
      "Epoch 6/50\n",
      "99/99 [==============================] - 7s 70ms/step - loss: 0.3290 - accuracy: 0.8731 - val_loss: 0.3743 - val_accuracy: 0.8609\n",
      "Epoch 7/50\n",
      "99/99 [==============================] - 7s 69ms/step - loss: 0.2719 - accuracy: 0.9007 - val_loss: 0.3791 - val_accuracy: 0.8622\n",
      "Epoch 8/50\n",
      "99/99 [==============================] - 7s 70ms/step - loss: 0.2484 - accuracy: 0.9098 - val_loss: 0.3383 - val_accuracy: 0.8913\n",
      "Epoch 9/50\n",
      "99/99 [==============================] - 7s 69ms/step - loss: 0.1831 - accuracy: 0.9351 - val_loss: 0.3200 - val_accuracy: 0.8913\n",
      "Epoch 10/50\n",
      "99/99 [==============================] - 7s 70ms/step - loss: 0.1353 - accuracy: 0.9544 - val_loss: 0.3119 - val_accuracy: 0.8850\n",
      "Epoch 11/50\n",
      "99/99 [==============================] - 7s 69ms/step - loss: 0.1328 - accuracy: 0.9529 - val_loss: 0.3167 - val_accuracy: 0.8799\n",
      "Epoch 12/50\n",
      "99/99 [==============================] - 7s 71ms/step - loss: 0.1246 - accuracy: 0.9551 - val_loss: 0.3090 - val_accuracy: 0.8850\n",
      "Epoch 13/50\n",
      "99/99 [==============================] - 7s 70ms/step - loss: 0.0993 - accuracy: 0.9668 - val_loss: 0.2944 - val_accuracy: 0.8925\n",
      "Epoch 14/50\n",
      "99/99 [==============================] - 7s 70ms/step - loss: 0.0901 - accuracy: 0.9715 - val_loss: 0.3012 - val_accuracy: 0.8862\n",
      "Epoch 15/50\n",
      "99/99 [==============================] - 7s 71ms/step - loss: 0.0871 - accuracy: 0.9680 - val_loss: 0.3167 - val_accuracy: 0.8925\n",
      "Epoch 16/50\n",
      "99/99 [==============================] - 7s 70ms/step - loss: 0.0825 - accuracy: 0.9715 - val_loss: 0.3006 - val_accuracy: 0.8812\n",
      "Epoch 17/50\n",
      "99/99 [==============================] - 7s 71ms/step - loss: 0.0621 - accuracy: 0.9826 - val_loss: 0.3043 - val_accuracy: 0.8925\n",
      "Epoch 18/50\n",
      "99/99 [==============================] - 7s 69ms/step - loss: 0.0483 - accuracy: 0.9829 - val_loss: 0.2706 - val_accuracy: 0.9052\n",
      "Epoch 19/50\n",
      "99/99 [==============================] - 7s 76ms/step - loss: 0.0550 - accuracy: 0.9801 - val_loss: 0.2945 - val_accuracy: 0.9001\n",
      "Epoch 20/50\n",
      "99/99 [==============================] - 7s 72ms/step - loss: 0.0552 - accuracy: 0.9829 - val_loss: 0.2986 - val_accuracy: 0.8951\n",
      "Epoch 21/50\n",
      "99/99 [==============================] - 7s 71ms/step - loss: 0.0757 - accuracy: 0.9753 - val_loss: 0.2880 - val_accuracy: 0.8925\n",
      "Epoch 22/50\n",
      "99/99 [==============================] - 10s 104ms/step - loss: 0.0595 - accuracy: 0.9791 - val_loss: 0.3128 - val_accuracy: 0.9014\n",
      "Epoch 23/50\n",
      "99/99 [==============================] - 12s 121ms/step - loss: 0.0402 - accuracy: 0.9851 - val_loss: 0.3110 - val_accuracy: 0.8963\n",
      "Epoch 24/50\n",
      "99/99 [==============================] - 11s 111ms/step - loss: 0.0594 - accuracy: 0.9794 - val_loss: 0.2826 - val_accuracy: 0.9102\n",
      "Epoch 25/50\n",
      "99/99 [==============================] - 11s 111ms/step - loss: 0.0657 - accuracy: 0.9772 - val_loss: 0.3309 - val_accuracy: 0.8837\n",
      "Epoch 26/50\n",
      "99/99 [==============================] - 8s 84ms/step - loss: 0.0593 - accuracy: 0.9791 - val_loss: 0.3131 - val_accuracy: 0.9077\n",
      "Epoch 27/50\n",
      "99/99 [==============================] - 11s 109ms/step - loss: 0.0461 - accuracy: 0.9848 - val_loss: 0.3212 - val_accuracy: 0.8925\n",
      "Epoch 28/50\n",
      "99/99 [==============================] - 12s 124ms/step - loss: 0.0463 - accuracy: 0.9848 - val_loss: 0.2976 - val_accuracy: 0.9077\n",
      "Epoch 29/50\n",
      "99/99 [==============================] - 12s 124ms/step - loss: 0.0305 - accuracy: 0.9908 - val_loss: 0.3236 - val_accuracy: 0.9052\n",
      "Epoch 30/50\n",
      "99/99 [==============================] - 12s 125ms/step - loss: 0.0296 - accuracy: 0.9892 - val_loss: 0.3061 - val_accuracy: 0.9027\n",
      "Epoch 31/50\n",
      "99/99 [==============================] - 12s 123ms/step - loss: 0.0416 - accuracy: 0.9858 - val_loss: 0.4069 - val_accuracy: 0.9001\n",
      "Epoch 32/50\n",
      "99/99 [==============================] - 12s 124ms/step - loss: 0.0716 - accuracy: 0.9734 - val_loss: 0.3408 - val_accuracy: 0.8913\n",
      "Epoch 33/50\n",
      "99/99 [==============================] - 12s 123ms/step - loss: 0.0360 - accuracy: 0.9889 - val_loss: 0.3582 - val_accuracy: 0.9064\n",
      "Epoch 34/50\n",
      "99/99 [==============================] - 12s 126ms/step - loss: 0.0384 - accuracy: 0.9870 - val_loss: 0.3201 - val_accuracy: 0.9090\n",
      "Epoch 35/50\n",
      "99/99 [==============================] - 12s 123ms/step - loss: 0.0622 - accuracy: 0.9791 - val_loss: 0.3721 - val_accuracy: 0.8913\n",
      "Epoch 36/50\n",
      "99/99 [==============================] - 12s 123ms/step - loss: 0.0415 - accuracy: 0.9854 - val_loss: 0.3724 - val_accuracy: 0.8951\n",
      "Epoch 37/50\n",
      "99/99 [==============================] - 12s 122ms/step - loss: 0.0439 - accuracy: 0.9820 - val_loss: 0.3609 - val_accuracy: 0.8951\n",
      "Epoch 38/50\n",
      "99/99 [==============================] - 12s 125ms/step - loss: 0.0450 - accuracy: 0.9835 - val_loss: 0.3291 - val_accuracy: 0.9027\n",
      "Epoch 39/50\n",
      "99/99 [==============================] - 12s 124ms/step - loss: 0.0382 - accuracy: 0.9854 - val_loss: 0.3383 - val_accuracy: 0.8989\n",
      "Epoch 40/50\n",
      "99/99 [==============================] - 12s 124ms/step - loss: 0.0410 - accuracy: 0.9864 - val_loss: 0.3871 - val_accuracy: 0.9027\n",
      "Epoch 41/50\n",
      "99/99 [==============================] - 12s 125ms/step - loss: 0.0455 - accuracy: 0.9829 - val_loss: 0.3708 - val_accuracy: 0.8900\n",
      "Epoch 42/50\n",
      "99/99 [==============================] - 9s 94ms/step - loss: 0.0408 - accuracy: 0.9854 - val_loss: 0.3616 - val_accuracy: 0.8875\n",
      "Epoch 43/50\n",
      "99/99 [==============================] - 8s 82ms/step - loss: 0.0339 - accuracy: 0.9877 - val_loss: 0.3121 - val_accuracy: 0.9077\n",
      "Epoch 44/50\n",
      "99/99 [==============================] - 8s 79ms/step - loss: 0.0255 - accuracy: 0.9921 - val_loss: 0.3852 - val_accuracy: 0.9027\n",
      "Epoch 45/50\n",
      "99/99 [==============================] - 8s 80ms/step - loss: 0.0228 - accuracy: 0.9927 - val_loss: 0.3838 - val_accuracy: 0.9014\n",
      "Epoch 46/50\n",
      "99/99 [==============================] - 11s 112ms/step - loss: 0.0180 - accuracy: 0.9921 - val_loss: 0.4021 - val_accuracy: 0.9039\n",
      "Epoch 47/50\n",
      "99/99 [==============================] - 12s 125ms/step - loss: 0.0321 - accuracy: 0.9896 - val_loss: 0.4246 - val_accuracy: 0.8862\n",
      "Epoch 48/50\n",
      "99/99 [==============================] - 12s 125ms/step - loss: 0.0257 - accuracy: 0.9930 - val_loss: 0.3852 - val_accuracy: 0.9014\n",
      "Epoch 49/50\n",
      "99/99 [==============================] - 12s 125ms/step - loss: 0.0194 - accuracy: 0.9924 - val_loss: 0.3640 - val_accuracy: 0.9052\n",
      "Epoch 50/50\n",
      "99/99 [==============================] - 13s 127ms/step - loss: 0.0200 - accuracy: 0.9934 - val_loss: 0.3846 - val_accuracy: 0.8951\n"
     ]
    }
   ],
   "source": [
    "history = model.fit(\n",
    "    X_train,\n",
    "    y_train,\n",
    "    epochs=50,\n",
    "    validation_data=(\n",
    "        X_test,\n",
    "        y_test\n",
    "    )\n",
    ")"
   ]
  },
  {
   "cell_type": "code",
   "execution_count": 30,
   "metadata": {},
   "outputs": [
    {
     "name": "stdout",
     "output_type": "stream",
     "text": [
      "25/25 [==============================] - 1s 22ms/step - loss: 0.3846 - accuracy: 0.8951\n",
      "test accuracy is 0.8950695395469666\n"
     ]
    }
   ],
   "source": [
    "scores = model.evaluate(X_test, y_test, verbose=1)\n",
    "print(f'test accuracy is {scores[1]}')"
   ]
  },
  {
   "cell_type": "code",
   "execution_count": 32,
   "metadata": {},
   "outputs": [],
   "source": [
    "!mkdir -p saved_model\n",
    "model.save('./saved_model/4_class_classification_model.keras')"
   ]
  },
  {
   "cell_type": "code",
   "execution_count": null,
   "metadata": {},
   "outputs": [],
   "source": []
  }
 ],
 "metadata": {
  "kernelspec": {
   "display_name": "Python 3",
   "language": "python",
   "name": "python3"
  },
  "language_info": {
   "codemirror_mode": {
    "name": "ipython",
    "version": 3
   },
   "file_extension": ".py",
   "mimetype": "text/x-python",
   "name": "python",
   "nbconvert_exporter": "python",
   "pygments_lexer": "ipython3",
   "version": "3.10.8"
  }
 },
 "nbformat": 4,
 "nbformat_minor": 2
}
